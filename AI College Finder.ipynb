{
 "cells": [
  {
   "cell_type": "code",
   "execution_count": 5,
   "id": "d9c3c551-ded9-4dc5-a559-737a988b4d83",
   "metadata": {},
   "outputs": [],
   "source": [
    "from openai import OpenAI\n",
    "google_gemini_api_key=\"AIzaSyCwWUpiJz5UEdb\""
   ]
  },
  {
   "cell_type": "code",
   "execution_count": 6,
   "id": "fcffbffb-1058-49ee-bc04-5f25e15302c7",
   "metadata": {},
   "outputs": [],
   "source": [
    "model = OpenAI(api_key=google_gemini_api_key, base_url=\"https://generativelanguage.googleapis.com/v1beta/openai/\" )"
   ]
  },
  {
   "cell_type": "code",
   "execution_count": 9,
   "id": "8d372519-74f7-4749-897f-73033b928aba",
   "metadata": {},
   "outputs": [],
   "source": [
    "import gradio as gr\n",
    "import google.generativeai as genai\n",
    "\n",
    "# Configure API key\n",
    "genai.configure(api_key=\"AIzamhxmsyeOg\")\n",
    "\n",
    "# Load Gemini model\n",
    "model = genai.GenerativeModel(\"gemini-1.5-flash\")\n",
    "\n",
    "# College recommendation function\n",
    "def recommend_colleges(name, tenth, twelfth, entrance, skills, goal, interest_area, state):\n",
    "    prompt = (\n",
    "        \"You are an expert Indian education counselor AI.\\n\"\n",
    "        \"Your task is to recommend suitable colleges in India based on a student's academic background, entrance scores (if available), subject stream (PCM/PCB/Commerce/Arts), area of interest, and career goals.\\n\"\n",
    "        \"Give 3 categories of colleges:\\n\"\n",
    "        \"1. Top-tier institutions (IITs/NITs etc. if eligible)\\n\"\n",
    "        \"2. Private universities or institutes with merit/direct admission\\n\"\n",
    "        \"3. Government or state-level colleges with low cutoffs or open exams\\n\\n\"\n",
    "        \"Be practical and mention entrance exams only if they are relevant. Suggest colleges that allow direct admission if no entrance scores are provided.\\n\\n\"\n",
    "        f\"Student Name: {name or 'N/A'}\\n\"\n",
    "        f\"10th Marks: {tenth}%\\n\"\n",
    "        f\"12th Marks: {twelfth}%\\n\"\n",
    "        f\"Entrance Exam Score: {entrance or 'N/A'}\\n\"\n",
    "        f\"Skills/Subjects (PCM/PCB/Commerce/Arts): {skills}\\n\"\n",
    "        f\"Career Goal: {goal or 'Not Specified'}\\n\"\n",
    "        f\"Area of Interest: {interest_area or 'General'}\\n\"\n",
    "        f\"Preferred State: {state or 'All India'}\\n\\n\"\n",
    "        \"Suggest best fit colleges with relevant courses and practical advice.\"\n",
    "    )\n",
    "\n",
    "    try:\n",
    "        response = model.generate_content(prompt)\n",
    "        return response.text.strip()\n",
    "    except Exception as e:\n",
    "        return f\"⚠️ Error: {str(e)}\""
   ]
  },
  {
   "cell_type": "code",
   "execution_count": 10,
   "id": "6eb76e47-b368-4714-93e0-ef5cc7c1cdec",
   "metadata": {},
   "outputs": [
    {
     "name": "stdout",
     "output_type": "stream",
     "text": [
      "* Running on local URL:  http://127.0.0.1:7864\n",
      "* To create a public link, set `share=True` in `launch()`.\n"
     ]
    },
    {
     "data": {
      "text/html": [
       "<div><iframe src=\"http://127.0.0.1:7864/\" width=\"100%\" height=\"500\" allow=\"autoplay; camera; microphone; clipboard-read; clipboard-write;\" frameborder=\"0\" allowfullscreen></iframe></div>"
      ],
      "text/plain": [
       "<IPython.core.display.HTML object>"
      ]
     },
     "metadata": {},
     "output_type": "display_data"
    },
    {
     "data": {
      "text/plain": []
     },
     "execution_count": 10,
     "metadata": {},
     "output_type": "execute_result"
    }
   ],
   "source": [
    "# Gradio UI\n",
    "with gr.Blocks() as demo:\n",
    "    gr.Markdown(\"## 🎓 AI-Based College Recommendation System\")\n",
    "\n",
    "    with gr.Row():\n",
    "        name = gr.Textbox(label=\"Student Name\")\n",
    "        state = gr.Textbox(label=\"Preferred State (Optional)\", placeholder=\"e.g., Maharashtra, Delhi, Karnataka\")\n",
    "\n",
    "    with gr.Row():\n",
    "        tenth = gr.Number(label=\"10th Marks (%)\")\n",
    "        twelfth = gr.Number(label=\"12th Marks (%)\")\n",
    "        entrance = gr.Textbox(label=\"Entrance Exam Score (Optional)\", placeholder=\"e.g., JEE: 85, NEET: N/A\")\n",
    "\n",
    "    with gr.Row():\n",
    "        skills = gr.Dropdown(\n",
    "            [\"PCM\", \"PCB\", \"Commerce\", \"Arts\", \"Other\"],\n",
    "            label=\"Subjects/Skills\",\n",
    "            multiselect=False\n",
    "        )\n",
    "        interest_area = gr.Textbox(label=\"Area of Interest (e.g., Computer Science, Law, Medical, BBA)\")\n",
    "        goal = gr.Textbox(label=\"Career Goal (Optional)\", placeholder=\"e.g., Software Engineer, Doctor, IAS\")\n",
    "\n",
    "    submit = gr.Button(\"🎯 Recommend Colleges\")\n",
    "    output = gr.Textbox(label=\"🎓 Suggested Colleges\", lines=20)\n",
    "\n",
    "    submit.click(\n",
    "        fn=recommend_colleges,\n",
    "        inputs=[name, tenth, twelfth, entrance, skills, goal, interest_area, state],\n",
    "        outputs=output\n",
    "    )\n",
    "\n",
    "demo.launch()"
   ]
  },
  {
   "cell_type": "code",
   "execution_count": null,
   "id": "a4998098-baef-43aa-8d3a-191fbbb2ff15",
   "metadata": {},
   "outputs": [],
   "source": []
  }
 ],
 "metadata": {
  "kernelspec": {
   "display_name": "Python 3 (ipykernel)",
   "language": "python",
   "name": "python3"
  },
  "language_info": {
   "codemirror_mode": {
    "name": "ipython",
    "version": 3
   },
   "file_extension": ".py",
   "mimetype": "text/x-python",
   "name": "python",
   "nbconvert_exporter": "python",
   "pygments_lexer": "ipython3",
   "version": "3.12.8"
  }
 },
 "nbformat": 4,
 "nbformat_minor": 5
}
